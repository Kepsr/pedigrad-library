{
 "cells": [
  {
   "cell_type": "markdown",
   "metadata": {},
   "source": [
    "Import `Pedigrad`:"
   ]
  },
  {
   "cell_type": "code",
   "execution_count": null,
   "metadata": {},
   "outputs": [],
   "source": [
    "import sys\n",
    "sys.path.insert(0, '../')\n",
    "\n",
    "from Pedigrad import (\n",
    "  Proset, SegmentObject, MorphismOfSegments,\n",
    "  CategoryOfSegments, PointedSet, Environment,\n",
    "  Sequence, Table\n",
    ")"
   ]
  },
  {
   "cell_type": "markdown",
   "metadata": {},
   "source": [
    "Construct a preordered set from `omega.yml`."
   ]
  },
  {
   "cell_type": "code",
   "execution_count": null,
   "metadata": {},
   "outputs": [],
   "source": [
    "Omega = Proset.from_file(\"omega.yml\")\n",
    "print(Omega.relations)\n",
    "print(Omega.mask)\n",
    "Omega.close()\n",
    "print(\"--after:\")\n",
    "print(Omega.relations)\n",
    "print(\"--relation:\")\n",
    "print(Omega.geq('1', '2'))\n",
    "print(Omega.geq('2', '1'))\n",
    "print(Omega.geq('4', '3'))\n",
    "print(Omega.geq('?', '3'))\n",
    "print(Omega.geq('?', '?'))\n",
    "print(\"--infimum:\")\n",
    "print(Omega.inf('2', '3'))\n",
    "print(Omega.inf('1', '2'))\n",
    "print(Omega.inf('?', '3'))\n",
    "print(\"--presence test:\")\n",
    "print('3' in Omega)\n",
    "print('1' in Omega)\n",
    "print('?' in Omega)"
   ]
  },
  {
   "cell_type": "markdown",
   "metadata": {},
   "source": [
    "---"
   ]
  },
  {
   "cell_type": "code",
   "execution_count": null,
   "metadata": {},
   "outputs": [],
   "source": [
    "domain = 20\n",
    "t = []\n",
    "c = []\n",
    "for i in range(domain):\n",
    "  t.append((i, i))\n",
    "  c.append('?' if i % 15 == 11 else (i % 2) + 1)\n",
    "\n",
    "s = SegmentObject(domain, t, c)\n",
    "print(f\"{s = }\")\n",
    "print(f\"{s.colors = }\")\n",
    "\n",
    "s1 = s.merge([(0, 3, 9), (10, 2, 14), (15, 3, 19)], Omega.inf)\n",
    "print(f\"{s1 = }\")\n",
    "print(f\"{s1.topology = }\")\n",
    "print(f\"{s1.colors = }\")\n",
    "\n",
    "s2 = s.merge([(0, 3, 9), (10, 2, 14)],Omega.inf)\n",
    "print(f\"{s2 = }\")\n",
    "\n",
    "s2 = s2.remove([5, 23])\n",
    "print(f\"{s2 = }\")\n",
    "\n",
    "s2.domain += 4\n",
    "print(f\"{s2 = }\")\n",
    "print(f\"{s2.colors =}\")\n",
    "\n",
    "s3 = s.merge([(0, 3, 9), (10, 2, 14)], Omega.inf)\n",
    "print(f\"{s3 = }\")\n",
    "s3 = s3.remove([1, 5, 6, 8, 10])\n",
    "print(f\"{s3 = }\")\n",
    "s3.topology = s3.topology + [(24, 24)]\n",
    "s3.colors = s3.colors + ['5']\n",
    "\n",
    "s3.domain = s3.domain + 5\n",
    "print(f\"{s3 = }\")\n",
    "print(f\"{s3.colors = }\")\n",
    "\n",
    "m = MorphismOfSegments(s2, s3, 'id', Omega.geq)\n",
    "print(m.defined)\n",
    "print(f\"{m.source = }\")\n",
    "print(f\"{m.target = }\")\n",
    "print(f\"{m.f0 = }\")"
   ]
  },
  {
   "cell_type": "markdown",
   "metadata": {},
   "source": [
    "---"
   ]
  },
  {
   "cell_type": "markdown",
   "metadata": {},
   "source": [
    "Construct a category of segments `Seg`:"
   ]
  },
  {
   "cell_type": "code",
   "execution_count": null,
   "metadata": {},
   "outputs": [],
   "source": [
    "Seg = CategoryOfSegments(Omega)\n",
    "\n",
    "s = Seg.initial(18, '1')\n",
    "s = s.merge([(2, 2, 8)], Omega.inf)\n",
    "\n",
    "print(Seg.identity(s, s))\n",
    "\n",
    "t = Seg.initial(20, '1')\n",
    "t = t.merge([(2, 3, 10), (15, 2, 18)], Omega.inf)\n",
    "\n",
    "print(Seg.identity(s, t))\n",
    "\n",
    "print(f\"{s = }\")\n",
    "print(f\"{t = }\")\n",
    "\n",
    "h = Seg.homset(s, t)\n",
    "for i, item in enumerate(h):\n",
    "  print(f\"{i}) well-defined = {item.defined}\")\n",
    "  print(f\"f1 = {item.f1}\")\n",
    "  print(f\"f0 = {item.f0}\")"
   ]
  },
  {
   "cell_type": "markdown",
   "metadata": {},
   "source": [
    "---"
   ]
  },
  {
   "cell_type": "markdown",
   "metadata": {},
   "source": [
    "Construct a pointed set for the genetic code."
   ]
  },
  {
   "cell_type": "code",
   "execution_count": null,
   "metadata": {},
   "outputs": [],
   "source": [
    "E = PointedSet(list('-ACGT'), 0)\n",
    "\n",
    "Env = Environment(Seg, E, 5, ['4'] * 5) #[] = white nodes\n",
    "print(Env.Seg.proset.relations)\n",
    "print(Env.pset.symbols)\n",
    "print(Env.pset.point())\n",
    "print(Env.spec)\n",
    "print(Env.b)\n",
    "\n",
    "s4 = Env.segment(list('ACGTTPCA-CT'), '1')\n",
    "print(s4)"
   ]
  },
  {
   "cell_type": "markdown",
   "metadata": {},
   "source": [
    "---"
   ]
  },
  {
   "cell_type": "markdown",
   "metadata": {},
   "source": [
    "Construct a sequence alignment from `align.fa`:"
   ]
  },
  {
   "cell_type": "code",
   "execution_count": null,
   "metadata": {},
   "outputs": [],
   "source": [
    "Seqali = Env.seqali(\"align.fa\")\n",
    "\n",
    "print(\"\\nDatabase\\n\" )\n",
    "\n",
    "print(Seqali.indiv)\n",
    "for i, item in enumerate(Seqali.base):\n",
    "  print(f\"{i}) color: {item.colors[item.parse]}\")\n",
    "  print(item)\n",
    "  for x in Seqali.database[i]:\n",
    "    for y in x:\n",
    "      print(y)\n",
    "    print('')\n",
    "\n",
    "print(\"\\nImage\\n\" )\n",
    "for i, item in enumerate(Seqali.base):\n",
    "  print(f\"base[{i}]\")\n",
    "  print(item)\n",
    "  sal = Seqali.eval(item)\n",
    "  for x in sal:\n",
    "    for y in x:\n",
    "      print(y)\n",
    "    print('')\n",
    "\n",
    "print(\"\\nExtending category\\n\" )\n",
    "l = Seqali.extending_category(Seqali.base[0])\n",
    "for i, m in l:\n",
    "  print(i)\n",
    "  print(m.f1)\n",
    "  print(m.f0)\n",
    "\n",
    "print(\"\\nExtending category\\n\" )\n",
    "l = Seqali.extending_category(Seqali.base[1])\n",
    "for i, m in l:\n",
    "  print(i)\n",
    "  print(m.f1)\n",
    "  print(m.f0)"
   ]
  },
  {
   "cell_type": "markdown",
   "metadata": {},
   "source": [
    "---"
   ]
  },
  {
   "cell_type": "code",
   "execution_count": null,
   "metadata": {},
   "outputs": [],
   "source": [
    "a = list('AGCTAGCTGA')\n",
    "b = list('GTGGATCGATGA')\n",
    "\n",
    "A = Sequence('a', a, '1')\n",
    "B = Sequence('b', b, '1')\n",
    "\n",
    "table = Table(A, B)\n",
    "print(\"\\nincidence\")\n",
    "table.incidence()\n",
    "table.stdout()\n",
    "print(\"\\nfillout\")\n",
    "table.fillout()\n",
    "table.stdout()\n",
    "table.write(\"dprog.fa\", mode = 'w', debug = False, display = True)"
   ]
  },
  {
   "cell_type": "markdown",
   "metadata": {},
   "source": [
    "---"
   ]
  },
  {
   "cell_type": "code",
   "execution_count": null,
   "metadata": {},
   "outputs": [],
   "source": [
    "E = PointedSet(list('-ACGT'), 0)\n",
    "\n",
    "Env = Environment(Seg, E, 2, ['1'] * 2) #[] = white nodes\n",
    "Seqali = Env.seqali(\"dprog.fa\")\n",
    "\n",
    "print(\"\\nImage\\n\" )\n",
    "\n",
    "print(Seqali.indiv)\n",
    "print(Seqali.base[0])\n",
    "sal = Seqali.eval(Seqali.base[0])\n",
    "for x in sal:\n",
    "  for y in x:\n",
    "    print(y)\n",
    "  print('')"
   ]
  }
 ],
 "metadata": {
  "kernelspec": {
   "display_name": "Python 3",
   "language": "python",
   "name": "python3"
  },
  "language_info": {
   "name": "python",
   "version": "3.9.0"
  },
  "orig_nbformat": 4,
  "vscode": {
   "interpreter": {
    "hash": "aee8b7b246df8f9039afb4144a1f6fd8d2ca17a180786b69acc140d282b71a49"
   }
  }
 },
 "nbformat": 4,
 "nbformat_minor": 2
}
